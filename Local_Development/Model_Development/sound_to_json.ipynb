{
 "cells": [
  {
   "cell_type": "code",
   "execution_count": 24,
   "id": "52852ed6",
   "metadata": {
    "ExecuteTime": {
     "end_time": "2022-11-05T20:26:33.306328Z",
     "start_time": "2022-11-05T20:26:33.286323Z"
    }
   },
   "outputs": [],
   "source": [
    "# audio libraries\n",
    "import librosa\n",
    "import librosa.display as lplt\n",
    "import IPython\n",
    "\n",
    "# import matplotlib to be able to display graphs\n",
    "import matplotlib.pyplot as plt\n",
    "\n",
    "# transform .wav into .csv\n",
    "import csv\n",
    "import os\n",
    "import numpy as np\n",
    "import pandas as pd\n",
    "\n",
    "from sklearn.preprocessing import LabelEncoder\n",
    "from sklearn.preprocessing import StandardScaler\n",
    "\n",
    "import pickle\n",
    "\n",
    "import keras\n",
    "import tensorflow as tf\n",
    "\n",
    "import json"
   ]
  },
  {
   "cell_type": "code",
   "execution_count": 2,
   "id": "637873a0",
   "metadata": {
    "ExecuteTime": {
     "end_time": "2022-11-05T17:54:26.966315Z",
     "start_time": "2022-11-05T17:54:26.952317Z"
    },
    "scrolled": true
   },
   "outputs": [
    {
     "name": "stdout",
     "output_type": "stream",
     "text": [
      "C:\\Users\\puter\\Desktop\\msds434_project\n"
     ]
    }
   ],
   "source": [
    "cwd = os.getcwd()\n",
    "print(cwd)"
   ]
  },
  {
   "cell_type": "code",
   "execution_count": 3,
   "id": "8bad6f5d",
   "metadata": {
    "ExecuteTime": {
     "end_time": "2022-11-05T17:54:26.982323Z",
     "start_time": "2022-11-05T17:54:26.968337Z"
    }
   },
   "outputs": [
    {
     "name": "stdout",
     "output_type": "stream",
     "text": [
      "C:\\Users\\puter\\Desktop\\msds434_project\\test_sounds\\413377__mbari-mars__gray-whale.wav\n"
     ]
    }
   ],
   "source": [
    "test_sound = cwd + '\\\\test_sounds\\\\413377__mbari-mars__gray-whale.wav'\n",
    "print(test_sound)"
   ]
  },
  {
   "cell_type": "code",
   "execution_count": 4,
   "id": "477c1ede",
   "metadata": {
    "ExecuteTime": {
     "end_time": "2022-11-05T17:54:26.998316Z",
     "start_time": "2022-11-05T17:54:26.985317Z"
    }
   },
   "outputs": [],
   "source": [
    "header = \"filename length chroma_stft_mean chroma_stft_var rms_mean rms_var spectral_centroid_mean spectral_centroid_var spectral_bandwidth_mean \\\n",
    "        spectral_bandwidth_var rolloff_mean rolloff_var zero_crossing_rate_mean zero_crossing_rate_var harmony_mean harmony_var perceptr_mean \\\n",
    "        perceptr_var tempo mfcc1_mean mfcc1_var mfcc2_mean mfcc2_var mfcc3_mean mfcc3_var mfcc4_mean mfcc4_var\".split()"
   ]
  },
  {
   "cell_type": "code",
   "execution_count": 5,
   "id": "0f9644e5",
   "metadata": {
    "ExecuteTime": {
     "end_time": "2022-11-05T17:54:27.013535Z",
     "start_time": "2022-11-05T17:54:27.001335Z"
    }
   },
   "outputs": [
    {
     "name": "stdout",
     "output_type": "stream",
     "text": [
      "<class 'list'>\n"
     ]
    }
   ],
   "source": [
    "print(type(header))"
   ]
  },
  {
   "cell_type": "code",
   "execution_count": 6,
   "id": "4a518eda",
   "metadata": {
    "ExecuteTime": {
     "end_time": "2022-11-05T17:54:27.029189Z",
     "start_time": "2022-11-05T17:54:27.015519Z"
    }
   },
   "outputs": [
    {
     "name": "stdout",
     "output_type": "stream",
     "text": [
      "Empty DataFrame\n",
      "Columns: [filename, length, chroma_stft_mean, chroma_stft_var, rms_mean, rms_var, spectral_centroid_mean, spectral_centroid_var, spectral_bandwidth_mean, spectral_bandwidth_var, rolloff_mean, rolloff_var, zero_crossing_rate_mean, zero_crossing_rate_var, harmony_mean, harmony_var, perceptr_mean, perceptr_var, tempo, mfcc1_mean, mfcc1_var, mfcc2_mean, mfcc2_var, mfcc3_mean, mfcc3_var, mfcc4_mean, mfcc4_var]\n",
      "Index: []\n",
      "\n",
      "[0 rows x 27 columns]\n"
     ]
    }
   ],
   "source": [
    "df = pd.DataFrame(columns=header)\n",
    "print(df)"
   ]
  },
  {
   "cell_type": "code",
   "execution_count": 7,
   "id": "a65de914",
   "metadata": {
    "ExecuteTime": {
     "end_time": "2022-11-05T17:54:28.194196Z",
     "start_time": "2022-11-05T17:54:27.032198Z"
    }
   },
   "outputs": [],
   "source": [
    "#for mammal in mammal_list:\n",
    "#    testdir = os.path.join(datadir,mammal)\n",
    "#    for soundfile in os.listdir(testdir):\n",
    "sound = test_sound\n",
    "soundfile='abc123'\n",
    "#print(sound)\n",
    "y, sr = librosa.load(sound, mono = True, duration = 30)\n",
    "chroma_stft = librosa.feature.chroma_stft(y = y, sr = sr)\n",
    "rmse = librosa.feature.rms(y = y)\n",
    "spec_cent = librosa.feature.spectral_centroid(y = y, sr = sr)\n",
    "spec_bw = librosa.feature.spectral_bandwidth(y = y, sr = sr)\n",
    "rolloff = librosa.feature.spectral_rolloff(y = y, sr = sr)\n",
    "zcr = librosa.feature.zero_crossing_rate(y)\n",
    "mfcc = librosa.feature.mfcc(y = y, sr = sr)\n",
    "to_append = f'{soundfile} {np.mean(chroma_stft)} {np.mean(rmse)} {np.mean(spec_cent)} {np.mean(spec_bw)} {np.mean(rolloff)} {np.mean(zcr)}'\n",
    "\n",
    "for e in mfcc:\n",
    "    to_append += f' {np.mean(e)}'\n",
    "\n",
    "#to_append += f' {mammal}'\n"
   ]
  },
  {
   "cell_type": "code",
   "execution_count": 8,
   "id": "929db8c9",
   "metadata": {
    "ExecuteTime": {
     "end_time": "2022-11-05T17:54:28.209196Z",
     "start_time": "2022-11-05T17:54:28.196196Z"
    }
   },
   "outputs": [
    {
     "name": "stdout",
     "output_type": "stream",
     "text": [
      "['abc123', '0.542300820350647', '0.043997589498758316', '195.94774794351537', '106.25561842538912', '324.35637199472717', '0.015660903033088234', '-455.5080261230469', '99.90418243408203', '90.59274291992188', '76.26758575439453', '58.54281234741211', '39.35333251953125', '20.6915340423584', '4.344691276550293', '-8.32799243927002', '-16.5473690032959', '-20.17575454711914', '-19.682767868041992', '-16.025535583496094', '-10.465840339660645', '-4.35581111907959', '1.0728483200073242', '4.8834147453308105', '6.547306060791016', '5.982172966003418', '3.5144526958465576']\n"
     ]
    }
   ],
   "source": [
    "to_append = to_append.split()\n",
    "print(to_append)"
   ]
  },
  {
   "cell_type": "code",
   "execution_count": 9,
   "id": "201a0fe5",
   "metadata": {
    "ExecuteTime": {
     "end_time": "2022-11-05T17:54:28.224196Z",
     "start_time": "2022-11-05T17:54:28.211197Z"
    }
   },
   "outputs": [
    {
     "name": "stdout",
     "output_type": "stream",
     "text": [
      "['abc123', '0.542300820350647', '0.043997589498758316', '195.94774794351537', '106.25561842538912', '324.35637199472717', '0.015660903033088234', '-455.5080261230469', '99.90418243408203', '90.59274291992188', '76.26758575439453', '58.54281234741211', '39.35333251953125', '20.6915340423584', '4.344691276550293', '-8.32799243927002', '-16.5473690032959', '-20.17575454711914', '-19.682767868041992', '-16.025535583496094', '-10.465840339660645', '-4.35581111907959', '1.0728483200073242', '4.8834147453308105', '6.547306060791016', '5.982172966003418', '3.5144526958465576']\n"
     ]
    }
   ],
   "source": [
    "print(to_append)"
   ]
  },
  {
   "cell_type": "code",
   "execution_count": 10,
   "id": "0696b554",
   "metadata": {
    "ExecuteTime": {
     "end_time": "2022-11-05T17:54:28.239196Z",
     "start_time": "2022-11-05T17:54:28.227198Z"
    }
   },
   "outputs": [],
   "source": [
    "a_series = pd.Series(to_append,index=df.columns)"
   ]
  },
  {
   "cell_type": "markdown",
   "id": "1288e7f0",
   "metadata": {
    "ExecuteTime": {
     "end_time": "2022-11-05T17:50:23.901024Z",
     "start_time": "2022-11-05T17:50:23.314192Z"
    }
   },
   "source": [
    "df = df.append(a_series, ignore_index=True)"
   ]
  },
  {
   "cell_type": "code",
   "execution_count": 11,
   "id": "d071d260",
   "metadata": {
    "ExecuteTime": {
     "end_time": "2022-11-05T17:54:28.255196Z",
     "start_time": "2022-11-05T17:54:28.241197Z"
    }
   },
   "outputs": [],
   "source": [
    "df = pd.concat([df, a_series.to_frame().T], ignore_index=True)"
   ]
  },
  {
   "cell_type": "code",
   "execution_count": 12,
   "id": "2cd6955e",
   "metadata": {
    "ExecuteTime": {
     "end_time": "2022-11-05T17:54:28.286198Z",
     "start_time": "2022-11-05T17:54:28.257197Z"
    }
   },
   "outputs": [
    {
     "data": {
      "text/html": [
       "<div>\n",
       "<style scoped>\n",
       "    .dataframe tbody tr th:only-of-type {\n",
       "        vertical-align: middle;\n",
       "    }\n",
       "\n",
       "    .dataframe tbody tr th {\n",
       "        vertical-align: top;\n",
       "    }\n",
       "\n",
       "    .dataframe thead th {\n",
       "        text-align: right;\n",
       "    }\n",
       "</style>\n",
       "<table border=\"1\" class=\"dataframe\">\n",
       "  <thead>\n",
       "    <tr style=\"text-align: right;\">\n",
       "      <th></th>\n",
       "      <th>filename</th>\n",
       "      <th>length</th>\n",
       "      <th>chroma_stft_mean</th>\n",
       "      <th>chroma_stft_var</th>\n",
       "      <th>rms_mean</th>\n",
       "      <th>rms_var</th>\n",
       "      <th>spectral_centroid_mean</th>\n",
       "      <th>spectral_centroid_var</th>\n",
       "      <th>spectral_bandwidth_mean</th>\n",
       "      <th>spectral_bandwidth_var</th>\n",
       "      <th>...</th>\n",
       "      <th>perceptr_var</th>\n",
       "      <th>tempo</th>\n",
       "      <th>mfcc1_mean</th>\n",
       "      <th>mfcc1_var</th>\n",
       "      <th>mfcc2_mean</th>\n",
       "      <th>mfcc2_var</th>\n",
       "      <th>mfcc3_mean</th>\n",
       "      <th>mfcc3_var</th>\n",
       "      <th>mfcc4_mean</th>\n",
       "      <th>mfcc4_var</th>\n",
       "    </tr>\n",
       "  </thead>\n",
       "  <tbody>\n",
       "    <tr>\n",
       "      <th>0</th>\n",
       "      <td>abc123</td>\n",
       "      <td>0.542300820350647</td>\n",
       "      <td>0.043997589498758316</td>\n",
       "      <td>195.94774794351537</td>\n",
       "      <td>106.25561842538912</td>\n",
       "      <td>324.35637199472717</td>\n",
       "      <td>0.015660903033088234</td>\n",
       "      <td>-455.5080261230469</td>\n",
       "      <td>99.90418243408203</td>\n",
       "      <td>90.59274291992188</td>\n",
       "      <td>...</td>\n",
       "      <td>-20.17575454711914</td>\n",
       "      <td>-19.682767868041992</td>\n",
       "      <td>-16.025535583496094</td>\n",
       "      <td>-10.465840339660645</td>\n",
       "      <td>-4.35581111907959</td>\n",
       "      <td>1.0728483200073242</td>\n",
       "      <td>4.8834147453308105</td>\n",
       "      <td>6.547306060791016</td>\n",
       "      <td>5.982172966003418</td>\n",
       "      <td>3.5144526958465576</td>\n",
       "    </tr>\n",
       "  </tbody>\n",
       "</table>\n",
       "<p>1 rows × 27 columns</p>\n",
       "</div>"
      ],
      "text/plain": [
       "  filename             length      chroma_stft_mean     chroma_stft_var  \\\n",
       "0   abc123  0.542300820350647  0.043997589498758316  195.94774794351537   \n",
       "\n",
       "             rms_mean             rms_var spectral_centroid_mean  \\\n",
       "0  106.25561842538912  324.35637199472717   0.015660903033088234   \n",
       "\n",
       "  spectral_centroid_var spectral_bandwidth_mean spectral_bandwidth_var  ...  \\\n",
       "0    -455.5080261230469       99.90418243408203      90.59274291992188  ...   \n",
       "\n",
       "         perceptr_var                tempo           mfcc1_mean  \\\n",
       "0  -20.17575454711914  -19.682767868041992  -16.025535583496094   \n",
       "\n",
       "             mfcc1_var         mfcc2_mean           mfcc2_var  \\\n",
       "0  -10.465840339660645  -4.35581111907959  1.0728483200073242   \n",
       "\n",
       "           mfcc3_mean          mfcc3_var         mfcc4_mean  \\\n",
       "0  4.8834147453308105  6.547306060791016  5.982172966003418   \n",
       "\n",
       "            mfcc4_var  \n",
       "0  3.5144526958465576  \n",
       "\n",
       "[1 rows x 27 columns]"
      ]
     },
     "execution_count": 12,
     "metadata": {},
     "output_type": "execute_result"
    }
   ],
   "source": [
    "df"
   ]
  },
  {
   "cell_type": "markdown",
   "id": "f3e34281",
   "metadata": {
    "ExecuteTime": {
     "end_time": "2022-11-05T17:53:28.075919Z",
     "start_time": "2022-11-05T17:53:27.682827Z"
    }
   },
   "source": [
    "for soundfile in os.listdir(testdatadir):\n",
    "    sound = f\"{testdatadir}/{soundfile}\"\n",
    "    y, sr = librosa.load(sound, mono = True, duration = 30)\n",
    "    chroma_stft = librosa.feature.chroma_stft(y = y, sr = sr)\n",
    "    rmse = librosa.feature.rms(y = y)\n",
    "    spec_cent = librosa.feature.spectral_centroid(y = y, sr = sr)\n",
    "    spec_bw = librosa.feature.spectral_bandwidth(y = y, sr = sr)\n",
    "    rolloff = librosa.feature.spectral_rolloff(y = y, sr = sr)\n",
    "    zcr = librosa.feature.zero_crossing_rate(y)\n",
    "    mfcc = librosa.feature.mfcc(y = y, sr = sr)\n",
    "    to_append = f'{soundfile} {np.mean(chroma_stft)} {np.mean(rmse)} {np.mean(spec_cent)} {np.mean(spec_bw)} {np.mean(rolloff)} {np.mean(zcr)}'\n",
    "\n",
    "    for e in mfcc:\n",
    "        to_append += f' {np.mean(e)}'\n",
    "\n",
    "    file = open('data_test.csv', 'a', newline = '')\n",
    "\n",
    "    with file:\n",
    "        writer = csv.writer(file)\n",
    "        writer.writerow(to_append.split())"
   ]
  },
  {
   "cell_type": "code",
   "execution_count": 34,
   "id": "9240fbb6",
   "metadata": {
    "ExecuteTime": {
     "end_time": "2022-11-05T20:31:38.567469Z",
     "start_time": "2022-11-05T20:31:38.557469Z"
    }
   },
   "outputs": [
    {
     "data": {
      "text/plain": [
       "'[{\"filename\": \"abc123\", \"length\": \"0.542300820350647\", \"chroma_stft_mean\": \"0.043997589498758316\", \"chroma_stft_var\": \"195.94774794351537\", \"rms_mean\": \"106.25561842538912\", \"rms_var\": \"324.35637199472717\", \"spectral_centroid_mean\": \"0.015660903033088234\", \"spectral_centroid_var\": \"-455.5080261230469\", \"spectral_bandwidth_mean\": \"99.90418243408203\", \"spectral_bandwidth_var\": \"90.59274291992188\", \"rolloff_mean\": \"76.26758575439453\", \"rolloff_var\": \"58.54281234741211\", \"zero_crossing_rate_mean\": \"39.35333251953125\", \"zero_crossing_rate_var\": \"20.6915340423584\", \"harmony_mean\": \"4.344691276550293\", \"harmony_var\": \"-8.32799243927002\", \"perceptr_mean\": \"-16.5473690032959\", \"perceptr_var\": \"-20.17575454711914\", \"tempo\": \"-19.682767868041992\", \"mfcc1_mean\": \"-16.025535583496094\", \"mfcc1_var\": \"-10.465840339660645\", \"mfcc2_mean\": \"-4.35581111907959\", \"mfcc2_var\": \"1.0728483200073242\", \"mfcc3_mean\": \"4.8834147453308105\", \"mfcc3_var\": \"6.547306060791016\", \"mfcc4_mean\": \"5.982172966003418\", \"mfcc4_var\": \"3.5144526958465576\"}]'"
      ]
     },
     "execution_count": 34,
     "metadata": {},
     "output_type": "execute_result"
    }
   ],
   "source": [
    "test = df.to_json(orient=\"records\")\n",
    "parsed = json.loads(test)\n",
    "json.dumps(parsed)"
   ]
  },
  {
   "cell_type": "code",
   "execution_count": 13,
   "id": "1d8fa5db",
   "metadata": {
    "ExecuteTime": {
     "end_time": "2022-11-05T18:15:22.213541Z",
     "start_time": "2022-11-05T18:15:22.207561Z"
    }
   },
   "outputs": [],
   "source": [
    "modeldir = cwd+'\\\\model'\n",
    "savedmodel = modeldir+'\\\\marine_mammal_cnn'"
   ]
  },
  {
   "cell_type": "code",
   "execution_count": 16,
   "id": "0e560a33",
   "metadata": {
    "ExecuteTime": {
     "end_time": "2022-11-05T18:15:42.162184Z",
     "start_time": "2022-11-05T18:15:41.222615Z"
    }
   },
   "outputs": [],
   "source": [
    "model = keras.models.load_model(savedmodel)"
   ]
  },
  {
   "cell_type": "code",
   "execution_count": 17,
   "id": "11ca36bb",
   "metadata": {
    "ExecuteTime": {
     "end_time": "2022-11-05T18:15:43.269804Z",
     "start_time": "2022-11-05T18:15:43.255768Z"
    }
   },
   "outputs": [],
   "source": [
    "scaler = StandardScaler()"
   ]
  },
  {
   "cell_type": "code",
   "execution_count": 18,
   "id": "532b035f",
   "metadata": {
    "ExecuteTime": {
     "end_time": "2022-11-05T18:15:44.064490Z",
     "start_time": "2022-11-05T18:15:44.057482Z"
    }
   },
   "outputs": [],
   "source": [
    "x = scaler.fit_transform(np.array(df.iloc[:, 1:27]))"
   ]
  },
  {
   "cell_type": "code",
   "execution_count": 19,
   "id": "7dd6b7ee",
   "metadata": {
    "ExecuteTime": {
     "end_time": "2022-11-05T18:15:46.259596Z",
     "start_time": "2022-11-05T18:15:46.128600Z"
    }
   },
   "outputs": [
    {
     "name": "stdout",
     "output_type": "stream",
     "text": [
      "['SpermWhale']\n"
     ]
    }
   ],
   "source": [
    "predictions = model.predict(x)\n",
    "encoder = LabelEncoder()\n",
    "encoder.classes_ = np.load('mammal_class.npy', allow_pickle=True)\n",
    "classes = np.argmax(predictions, axis = 1)\n",
    "result = encoder.inverse_transform(classes)\n",
    "print(result)"
   ]
  },
  {
   "cell_type": "code",
   "execution_count": 20,
   "id": "93aadd45",
   "metadata": {
    "ExecuteTime": {
     "end_time": "2022-11-05T18:42:46.891514Z",
     "start_time": "2022-11-05T18:42:46.887512Z"
    }
   },
   "outputs": [
    {
     "name": "stdout",
     "output_type": "stream",
     "text": [
      "[[5.6401826e-04 1.0246783e-03 3.0140630e-03 2.9493824e-05 5.1567643e-03\n",
      "  4.5159474e-04 2.4098941e-04 2.0721753e-03 4.7345588e-06 5.3421850e-03\n",
      "  2.9638625e-06 8.0796508e-06 5.7409558e-04 6.3140341e-03 2.4217118e-06\n",
      "  3.0266363e-04 4.1276440e-03 2.8195911e-05 3.9801726e-05 3.0794938e-04\n",
      "  2.3651988e-05 7.8526085e-05 1.2171727e-05 2.9363362e-06 1.4345965e-04\n",
      "  5.3049205e-03 3.4319772e-05 1.8721226e-01 5.7111727e-04 3.5606875e-04\n",
      "  2.0048085e-01 1.7314450e-03 2.9280420e-06 1.5165818e-02 1.1591144e-06\n",
      "  1.8769024e-05 2.5944455e-04 7.5912266e-04 4.7898549e-03 1.6899857e-03\n",
      "  4.2609000e-03 2.4180000e-03 1.9363955e-02 1.8736082e-05 4.7329727e-01\n",
      "  7.1508600e-04 4.1094627e-03 2.5715552e-05 2.5677800e-02 2.5482554e-05\n",
      "  4.1561634e-03 1.5562161e-02 6.0765928e-04 1.0254217e-03 4.8887788e-04]]\n"
     ]
    }
   ],
   "source": [
    "print(predictions)"
   ]
  },
  {
   "cell_type": "code",
   "execution_count": 23,
   "id": "394cba2c",
   "metadata": {
    "ExecuteTime": {
     "end_time": "2022-11-05T18:48:32.662610Z",
     "start_time": "2022-11-05T18:48:32.657612Z"
    }
   },
   "outputs": [
    {
     "name": "stdout",
     "output_type": "stream",
     "text": [
      "44 0.47329727\n"
     ]
    }
   ],
   "source": [
    "print(np.argmax(predictions),np.max(predictions))"
   ]
  },
  {
   "cell_type": "code",
   "execution_count": null,
   "id": "f4e9fbcf",
   "metadata": {},
   "outputs": [],
   "source": []
  },
  {
   "cell_type": "code",
   "execution_count": null,
   "id": "1f86dec2",
   "metadata": {},
   "outputs": [],
   "source": []
  },
  {
   "cell_type": "code",
   "execution_count": null,
   "id": "c43a3f0c",
   "metadata": {},
   "outputs": [],
   "source": []
  },
  {
   "cell_type": "code",
   "execution_count": null,
   "id": "736b4439",
   "metadata": {},
   "outputs": [],
   "source": []
  },
  {
   "cell_type": "code",
   "execution_count": null,
   "id": "698e2488",
   "metadata": {},
   "outputs": [],
   "source": []
  },
  {
   "cell_type": "code",
   "execution_count": null,
   "id": "c1c742ab",
   "metadata": {},
   "outputs": [],
   "source": []
  },
  {
   "cell_type": "code",
   "execution_count": null,
   "id": "913153cd",
   "metadata": {},
   "outputs": [],
   "source": []
  },
  {
   "cell_type": "code",
   "execution_count": null,
   "id": "83dff5eb",
   "metadata": {},
   "outputs": [],
   "source": []
  },
  {
   "cell_type": "code",
   "execution_count": null,
   "id": "17933a62",
   "metadata": {},
   "outputs": [],
   "source": []
  }
 ],
 "metadata": {
  "kernelspec": {
   "display_name": "Python 3 (ipykernel)",
   "language": "python",
   "name": "python3"
  },
  "language_info": {
   "codemirror_mode": {
    "name": "ipython",
    "version": 3
   },
   "file_extension": ".py",
   "mimetype": "text/x-python",
   "name": "python",
   "nbconvert_exporter": "python",
   "pygments_lexer": "ipython3",
   "version": "3.9.12"
  }
 },
 "nbformat": 4,
 "nbformat_minor": 5
}
